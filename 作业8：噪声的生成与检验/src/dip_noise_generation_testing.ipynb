{
 "metadata": {
  "language_info": {
   "codemirror_mode": {
    "name": "ipython",
    "version": 3
   },
   "file_extension": ".py",
   "mimetype": "text/x-python",
   "name": "python",
   "nbconvert_exporter": "python",
   "pygments_lexer": "ipython3",
   "version": "3.9.0-final"
  },
  "orig_nbformat": 2,
  "kernelspec": {
   "name": "python3",
   "display_name": "Python 3"
  }
 },
 "nbformat": 4,
 "nbformat_minor": 2,
 "cells": [
  {
   "source": [
    "# 作业8：噪声的生成与检验  "
   ],
   "cell_type": "markdown",
   "metadata": {}
  },
  {
   "source": [
    "### 作业目的：\n",
    "\n",
    "    理解噪声的概率密度函数以及噪声类型的判定方法\n"
   ],
   "cell_type": "markdown",
   "metadata": {}
  },
  {
   "source": [
    "### 作业内容：\n",
    "\n",
    "    生成概率密度可用解析函数表示的噪声，检验生成的噪声与理论的契合程度。\n"
   ],
   "cell_type": "markdown",
   "metadata": {}
  },
  {
   "source": [
    "### 作业要求：\n",
    "\n",
    "    （1）用Numpy产生10000个均匀分布和高斯分布随机数，自行设定均匀分布的分布范围[a,b]，高斯分布的均值与方差"
   ],
   "cell_type": "markdown",
   "metadata": {}
  },
  {
   "cell_type": "code",
   "execution_count": null,
   "metadata": {},
   "outputs": [],
   "source": []
  },
  {
   "source": [
    "    （2）用matplotlib 中的hist函数统计生成噪声的概率密度函数，同时用numpy内置的mean、var函数计算两类噪声的均值与方差，与理论值进行比较。"
   ],
   "cell_type": "markdown",
   "metadata": {}
  },
  {
   "source": [
    "    （3）利用实际计算得到的均值与方差，根据理论公式绘制噪声的pdf曲线，并与实际曲线进行对比"
   ],
   "cell_type": "markdown",
   "metadata": {}
  },
  {
   "source": [
    "    （4）利用生成的10000点高斯噪声，计算其自相关，绘制自相关波形。"
   ],
   "cell_type": "markdown",
   "metadata": {}
  },
  {
   "source": [
    "    (5)  利用生成的10000点高斯噪声，计算其DFT变换，并绘DFT幅度波形。"
   ],
   "cell_type": "markdown",
   "metadata": {}
  },
  {
   "source": [
    "\n",
    "### 提交要求：\n",
    "\n",
    "    PDF格式文档，Pyton代码嵌入到文档中。"
   ],
   "cell_type": "markdown",
   "metadata": {}
  }
 ]
}